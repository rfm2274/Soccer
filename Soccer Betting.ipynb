{
 "cells": [
  {
   "cell_type": "code",
   "execution_count": 1,
   "metadata": {
    "collapsed": true
   },
   "outputs": [],
   "source": [
    "import numpy as np\n",
    "import matplotlib.pyplot as plt\n",
    "import pandas as pd\n",
    "import sqlite3"
   ]
  },
  {
   "cell_type": "code",
   "execution_count": 2,
   "metadata": {
    "collapsed": true
   },
   "outputs": [],
   "source": [
    "connection = sqlite3.connect('database.sqlite') "
   ]
  },
  {
   "cell_type": "code",
   "execution_count": 3,
   "metadata": {
    "collapsed": true
   },
   "outputs": [],
   "source": [
    "#Other tables are not relevant as they are static in time and not reflecting timeseries nature of the data \n",
    "countries = pd.read_sql_query(\"SELECT * from Country\", connection)\n",
    "matches = pd.read_sql_query(\"SELECT * from Match\", connection)\n",
    "leagues = pd.read_sql_query(\"SELECT * from League\", connection)\n",
    "teams = pd.read_sql_query(\"SELECT * from Team\", connection)\n",
    "\n"
   ]
  },
  {
   "cell_type": "code",
   "execution_count": 4,
   "metadata": {
    "collapsed": true
   },
   "outputs": [],
   "source": [
    "leagues = countries.merge(leagues,on='id',suffixes=('', '_y'))\n"
   ]
  },
  {
   "cell_type": "code",
   "execution_count": 16,
   "metadata": {
    "collapsed": true
   },
   "outputs": [],
   "source": [
    "leagues= leagues.rename(index=str, columns={\"id\": \"league_id\", \"name\": \"country\",\"country_id\":\"country_id\",\"name_y\":\"league_name\"})"
   ]
  },
  {
   "cell_type": "code",
   "execution_count": 5,
   "metadata": {},
   "outputs": [
    {
     "data": {
      "text/html": [
       "<div>\n",
       "<style>\n",
       "    .dataframe thead tr:only-child th {\n",
       "        text-align: right;\n",
       "    }\n",
       "\n",
       "    .dataframe thead th {\n",
       "        text-align: left;\n",
       "    }\n",
       "\n",
       "    .dataframe tbody tr th {\n",
       "        vertical-align: top;\n",
       "    }\n",
       "</style>\n",
       "<table border=\"1\" class=\"dataframe\">\n",
       "  <thead>\n",
       "    <tr style=\"text-align: right;\">\n",
       "      <th></th>\n",
       "      <th>team_api_id</th>\n",
       "      <th>team_long_name</th>\n",
       "    </tr>\n",
       "  </thead>\n",
       "  <tbody>\n",
       "    <tr>\n",
       "      <th>0</th>\n",
       "      <td>9987</td>\n",
       "      <td>KRC Genk</td>\n",
       "    </tr>\n",
       "    <tr>\n",
       "      <th>1</th>\n",
       "      <td>9993</td>\n",
       "      <td>Beerschot AC</td>\n",
       "    </tr>\n",
       "    <tr>\n",
       "      <th>2</th>\n",
       "      <td>10000</td>\n",
       "      <td>SV Zulte-Waregem</td>\n",
       "    </tr>\n",
       "    <tr>\n",
       "      <th>3</th>\n",
       "      <td>9994</td>\n",
       "      <td>Sporting Lokeren</td>\n",
       "    </tr>\n",
       "    <tr>\n",
       "      <th>4</th>\n",
       "      <td>9984</td>\n",
       "      <td>KSV Cercle Brugge</td>\n",
       "    </tr>\n",
       "    <tr>\n",
       "      <th>5</th>\n",
       "      <td>8635</td>\n",
       "      <td>RSC Anderlecht</td>\n",
       "    </tr>\n",
       "    <tr>\n",
       "      <th>6</th>\n",
       "      <td>9991</td>\n",
       "      <td>KAA Gent</td>\n",
       "    </tr>\n",
       "    <tr>\n",
       "      <th>7</th>\n",
       "      <td>9998</td>\n",
       "      <td>RAEC Mons</td>\n",
       "    </tr>\n",
       "    <tr>\n",
       "      <th>8</th>\n",
       "      <td>7947</td>\n",
       "      <td>FCV Dender EH</td>\n",
       "    </tr>\n",
       "    <tr>\n",
       "      <th>9</th>\n",
       "      <td>9985</td>\n",
       "      <td>Standard de Liège</td>\n",
       "    </tr>\n",
       "    <tr>\n",
       "      <th>10</th>\n",
       "      <td>8203</td>\n",
       "      <td>KV Mechelen</td>\n",
       "    </tr>\n",
       "    <tr>\n",
       "      <th>11</th>\n",
       "      <td>8342</td>\n",
       "      <td>Club Brugge KV</td>\n",
       "    </tr>\n",
       "    <tr>\n",
       "      <th>12</th>\n",
       "      <td>9999</td>\n",
       "      <td>KSV Roeselare</td>\n",
       "    </tr>\n",
       "    <tr>\n",
       "      <th>13</th>\n",
       "      <td>8571</td>\n",
       "      <td>KV Kortrijk</td>\n",
       "    </tr>\n",
       "    <tr>\n",
       "      <th>14</th>\n",
       "      <td>4049</td>\n",
       "      <td>Tubize</td>\n",
       "    </tr>\n",
       "    <tr>\n",
       "      <th>15</th>\n",
       "      <td>9996</td>\n",
       "      <td>Royal Excel Mouscron</td>\n",
       "    </tr>\n",
       "    <tr>\n",
       "      <th>16</th>\n",
       "      <td>10001</td>\n",
       "      <td>KVC Westerlo</td>\n",
       "    </tr>\n",
       "    <tr>\n",
       "      <th>17</th>\n",
       "      <td>9986</td>\n",
       "      <td>Sporting Charleroi</td>\n",
       "    </tr>\n",
       "    <tr>\n",
       "      <th>18</th>\n",
       "      <td>9997</td>\n",
       "      <td>Sint-Truidense VV</td>\n",
       "    </tr>\n",
       "    <tr>\n",
       "      <th>19</th>\n",
       "      <td>9989</td>\n",
       "      <td>Lierse SK</td>\n",
       "    </tr>\n",
       "    <tr>\n",
       "      <th>20</th>\n",
       "      <td>6351</td>\n",
       "      <td>KAS Eupen</td>\n",
       "    </tr>\n",
       "    <tr>\n",
       "      <th>21</th>\n",
       "      <td>1773</td>\n",
       "      <td>Oud-Heverlee Leuven</td>\n",
       "    </tr>\n",
       "    <tr>\n",
       "      <th>22</th>\n",
       "      <td>8475</td>\n",
       "      <td>Waasland-Beveren</td>\n",
       "    </tr>\n",
       "    <tr>\n",
       "      <th>23</th>\n",
       "      <td>8573</td>\n",
       "      <td>KV Oostende</td>\n",
       "    </tr>\n",
       "    <tr>\n",
       "      <th>24</th>\n",
       "      <td>274581</td>\n",
       "      <td>Royal Excel Mouscron</td>\n",
       "    </tr>\n",
       "    <tr>\n",
       "      <th>25</th>\n",
       "      <td>10260</td>\n",
       "      <td>Manchester United</td>\n",
       "    </tr>\n",
       "    <tr>\n",
       "      <th>26</th>\n",
       "      <td>10261</td>\n",
       "      <td>Newcastle United</td>\n",
       "    </tr>\n",
       "    <tr>\n",
       "      <th>27</th>\n",
       "      <td>9825</td>\n",
       "      <td>Arsenal</td>\n",
       "    </tr>\n",
       "    <tr>\n",
       "      <th>28</th>\n",
       "      <td>8659</td>\n",
       "      <td>West Bromwich Albion</td>\n",
       "    </tr>\n",
       "    <tr>\n",
       "      <th>29</th>\n",
       "      <td>8472</td>\n",
       "      <td>Sunderland</td>\n",
       "    </tr>\n",
       "    <tr>\n",
       "      <th>...</th>\n",
       "      <td>...</td>\n",
       "      <td>...</td>\n",
       "    </tr>\n",
       "    <tr>\n",
       "      <th>269</th>\n",
       "      <td>9906</td>\n",
       "      <td>Atlético Madrid</td>\n",
       "    </tr>\n",
       "    <tr>\n",
       "      <th>270</th>\n",
       "      <td>9864</td>\n",
       "      <td>Málaga CF</td>\n",
       "    </tr>\n",
       "    <tr>\n",
       "      <th>271</th>\n",
       "      <td>9868</td>\n",
       "      <td>Xerez Club Deportivo</td>\n",
       "    </tr>\n",
       "    <tr>\n",
       "      <th>272</th>\n",
       "      <td>8394</td>\n",
       "      <td>Real Zaragoza</td>\n",
       "    </tr>\n",
       "    <tr>\n",
       "      <th>273</th>\n",
       "      <td>9867</td>\n",
       "      <td>CD Tenerife</td>\n",
       "    </tr>\n",
       "    <tr>\n",
       "      <th>274</th>\n",
       "      <td>10278</td>\n",
       "      <td>Hércules Club de Fútbol</td>\n",
       "    </tr>\n",
       "    <tr>\n",
       "      <th>275</th>\n",
       "      <td>8581</td>\n",
       "      <td>Levante UD</td>\n",
       "    </tr>\n",
       "    <tr>\n",
       "      <th>276</th>\n",
       "      <td>8560</td>\n",
       "      <td>Real Sociedad</td>\n",
       "    </tr>\n",
       "    <tr>\n",
       "      <th>277</th>\n",
       "      <td>7878</td>\n",
       "      <td>Granada CF</td>\n",
       "    </tr>\n",
       "    <tr>\n",
       "      <th>278</th>\n",
       "      <td>8370</td>\n",
       "      <td>Rayo Vallecano</td>\n",
       "    </tr>\n",
       "    <tr>\n",
       "      <th>279</th>\n",
       "      <td>9910</td>\n",
       "      <td>RC Celta de Vigo</td>\n",
       "    </tr>\n",
       "    <tr>\n",
       "      <th>280</th>\n",
       "      <td>10268</td>\n",
       "      <td>Elche CF</td>\n",
       "    </tr>\n",
       "    <tr>\n",
       "      <th>281</th>\n",
       "      <td>8372</td>\n",
       "      <td>SD Eibar</td>\n",
       "    </tr>\n",
       "    <tr>\n",
       "      <th>282</th>\n",
       "      <td>7869</td>\n",
       "      <td>Córdoba CF</td>\n",
       "    </tr>\n",
       "    <tr>\n",
       "      <th>283</th>\n",
       "      <td>8306</td>\n",
       "      <td>UD Las Palmas</td>\n",
       "    </tr>\n",
       "    <tr>\n",
       "      <th>284</th>\n",
       "      <td>9956</td>\n",
       "      <td>Grasshopper Club Zürich</td>\n",
       "    </tr>\n",
       "    <tr>\n",
       "      <th>285</th>\n",
       "      <td>6493</td>\n",
       "      <td>AC Bellinzona</td>\n",
       "    </tr>\n",
       "    <tr>\n",
       "      <th>286</th>\n",
       "      <td>10192</td>\n",
       "      <td>BSC Young Boys</td>\n",
       "    </tr>\n",
       "    <tr>\n",
       "      <th>287</th>\n",
       "      <td>9931</td>\n",
       "      <td>FC Basel</td>\n",
       "    </tr>\n",
       "    <tr>\n",
       "      <th>288</th>\n",
       "      <td>9930</td>\n",
       "      <td>FC Aarau</td>\n",
       "    </tr>\n",
       "    <tr>\n",
       "      <th>289</th>\n",
       "      <td>10179</td>\n",
       "      <td>FC Sion</td>\n",
       "    </tr>\n",
       "    <tr>\n",
       "      <th>290</th>\n",
       "      <td>10199</td>\n",
       "      <td>FC Luzern</td>\n",
       "    </tr>\n",
       "    <tr>\n",
       "      <th>291</th>\n",
       "      <td>9824</td>\n",
       "      <td>FC Vaduz</td>\n",
       "    </tr>\n",
       "    <tr>\n",
       "      <th>292</th>\n",
       "      <td>7955</td>\n",
       "      <td>Neuchâtel Xamax</td>\n",
       "    </tr>\n",
       "    <tr>\n",
       "      <th>293</th>\n",
       "      <td>10243</td>\n",
       "      <td>FC Zürich</td>\n",
       "    </tr>\n",
       "    <tr>\n",
       "      <th>294</th>\n",
       "      <td>10190</td>\n",
       "      <td>FC St. Gallen</td>\n",
       "    </tr>\n",
       "    <tr>\n",
       "      <th>295</th>\n",
       "      <td>10191</td>\n",
       "      <td>FC Thun</td>\n",
       "    </tr>\n",
       "    <tr>\n",
       "      <th>296</th>\n",
       "      <td>9777</td>\n",
       "      <td>Servette FC</td>\n",
       "    </tr>\n",
       "    <tr>\n",
       "      <th>297</th>\n",
       "      <td>7730</td>\n",
       "      <td>FC Lausanne-Sports</td>\n",
       "    </tr>\n",
       "    <tr>\n",
       "      <th>298</th>\n",
       "      <td>7896</td>\n",
       "      <td>Lugano</td>\n",
       "    </tr>\n",
       "  </tbody>\n",
       "</table>\n",
       "<p>299 rows × 2 columns</p>\n",
       "</div>"
      ],
      "text/plain": [
       "     team_api_id           team_long_name\n",
       "0           9987                 KRC Genk\n",
       "1           9993             Beerschot AC\n",
       "2          10000         SV Zulte-Waregem\n",
       "3           9994         Sporting Lokeren\n",
       "4           9984        KSV Cercle Brugge\n",
       "5           8635           RSC Anderlecht\n",
       "6           9991                 KAA Gent\n",
       "7           9998                RAEC Mons\n",
       "8           7947            FCV Dender EH\n",
       "9           9985        Standard de Liège\n",
       "10          8203              KV Mechelen\n",
       "11          8342           Club Brugge KV\n",
       "12          9999            KSV Roeselare\n",
       "13          8571              KV Kortrijk\n",
       "14          4049                   Tubize\n",
       "15          9996     Royal Excel Mouscron\n",
       "16         10001             KVC Westerlo\n",
       "17          9986       Sporting Charleroi\n",
       "18          9997        Sint-Truidense VV\n",
       "19          9989                Lierse SK\n",
       "20          6351                KAS Eupen\n",
       "21          1773      Oud-Heverlee Leuven\n",
       "22          8475         Waasland-Beveren\n",
       "23          8573              KV Oostende\n",
       "24        274581     Royal Excel Mouscron\n",
       "25         10260        Manchester United\n",
       "26         10261         Newcastle United\n",
       "27          9825                  Arsenal\n",
       "28          8659     West Bromwich Albion\n",
       "29          8472               Sunderland\n",
       "..           ...                      ...\n",
       "269         9906          Atlético Madrid\n",
       "270         9864                Málaga CF\n",
       "271         9868     Xerez Club Deportivo\n",
       "272         8394            Real Zaragoza\n",
       "273         9867              CD Tenerife\n",
       "274        10278  Hércules Club de Fútbol\n",
       "275         8581               Levante UD\n",
       "276         8560            Real Sociedad\n",
       "277         7878               Granada CF\n",
       "278         8370           Rayo Vallecano\n",
       "279         9910         RC Celta de Vigo\n",
       "280        10268                 Elche CF\n",
       "281         8372                 SD Eibar\n",
       "282         7869               Córdoba CF\n",
       "283         8306            UD Las Palmas\n",
       "284         9956  Grasshopper Club Zürich\n",
       "285         6493            AC Bellinzona\n",
       "286        10192           BSC Young Boys\n",
       "287         9931                 FC Basel\n",
       "288         9930                 FC Aarau\n",
       "289        10179                  FC Sion\n",
       "290        10199                FC Luzern\n",
       "291         9824                 FC Vaduz\n",
       "292         7955          Neuchâtel Xamax\n",
       "293        10243                FC Zürich\n",
       "294        10190            FC St. Gallen\n",
       "295        10191                  FC Thun\n",
       "296         9777              Servette FC\n",
       "297         7730       FC Lausanne-Sports\n",
       "298         7896                   Lugano\n",
       "\n",
       "[299 rows x 2 columns]"
      ]
     },
     "execution_count": 5,
     "metadata": {},
     "output_type": "execute_result"
    }
   ],
   "source": [
    "del teams['team_short_name']\n",
    "del teams['id']\n",
    "del teams['team_fifa_api_id']\n",
    "teams"
   ]
  },
  {
   "cell_type": "code",
   "execution_count": 22,
   "metadata": {
    "collapsed": true
   },
   "outputs": [],
   "source": [
    "del leagues['country_id']"
   ]
  },
  {
   "cell_type": "code",
   "execution_count": 153,
   "metadata": {
    "collapsed": true
   },
   "outputs": [],
   "source": [
    "def get_team(team_id):\n",
    "    teams_match = np.where(teams[\"team_api_id\"] == team_id,teams['team_long_name'],0)\n",
    "    for result in teams_match:\n",
    "       if result is not 0:\n",
    "           return result"
   ]
  },
  {
   "cell_type": "code",
   "execution_count": 7,
   "metadata": {
    "collapsed": true
   },
   "outputs": [],
   "source": [
    "matches['result']='A'\n",
    "matches.loc[matches.home_team_goal==matches.away_team_goal,\"result\"]='D'\n",
    "matches.loc[matches.home_team_goal>matches.away_team_goal,\"result\"]='H'"
   ]
  },
  {
   "cell_type": "code",
   "execution_count": 8,
   "metadata": {
    "collapsed": true
   },
   "outputs": [],
   "source": [
    "matches['best_home']= matches.apply(lambda x: max(x['B365H'],x['BWH'],x['IWH'],x['LBH'],x['PSH'],x['WHH'],x['SJH'],x['VCH'],x['GBH'],x['BSH']),axis = 1)"
   ]
  },
  {
   "cell_type": "code",
   "execution_count": 9,
   "metadata": {
    "collapsed": true
   },
   "outputs": [],
   "source": [
    "matches['worst_home'] = matches.apply(lambda x: min(x['B365H'],x['BWH'],x['IWH'],x['LBH'],x['PSH'],x['WHH'],x['SJH'],x['VCH'],x['GBH'],x['BSH']),axis = 1)"
   ]
  },
  {
   "cell_type": "code",
   "execution_count": 10,
   "metadata": {
    "collapsed": true
   },
   "outputs": [],
   "source": [
    "matches['best_draw']= matches.apply(lambda x: max(x['B365D'],x['BWD'],x['IWD'],x['LBD'],x['PSD'],x['WHD'],x['SJD'],x['VCD'],x['GBD'],x['BSD']),axis = 1)"
   ]
  },
  {
   "cell_type": "code",
   "execution_count": 11,
   "metadata": {
    "collapsed": true
   },
   "outputs": [],
   "source": [
    "matches['worst_draw']= matches.apply(lambda x: min(x['B365D'],x['BWD'],x['IWD'],x['LBD'],x['PSD'],x['WHD'],x['SJD'],x['VCD'],x['GBD'],x['BSD']),axis = 1)"
   ]
  },
  {
   "cell_type": "code",
   "execution_count": 12,
   "metadata": {
    "collapsed": true
   },
   "outputs": [],
   "source": [
    "matches['best_away']= matches.apply(lambda x: max(x['B365A'],x['BWA'],x['IWA'],x['LBA'],x['PSA'],x['WHA'],x['SJA'],x['VCA'],x['GBA'],x['BSA']),axis = 1)"
   ]
  },
  {
   "cell_type": "code",
   "execution_count": 13,
   "metadata": {
    "collapsed": true
   },
   "outputs": [],
   "source": [
    "matches['worst_away']= matches.apply(lambda x: min(x['B365A'],x['BWA'],x['IWA'],x['LBA'],x['PSA'],x['WHA'],x['SJA'],x['VCA'],x['GBA'],x['BSA']),axis = 1)"
   ]
  },
  {
   "cell_type": "code",
   "execution_count": 19,
   "metadata": {
    "collapsed": true
   },
   "outputs": [],
   "source": [
    "matches  = pd.merge(matches,leagues,on = 'league_id')"
   ]
  },
  {
   "cell_type": "code",
   "execution_count": 14,
   "metadata": {},
   "outputs": [
    {
     "data": {
      "text/plain": [
       "<matplotlib.axes._subplots.AxesSubplot at 0x10b6fe208>"
      ]
     },
     "execution_count": 14,
     "metadata": {},
     "output_type": "execute_result"
    },
    {
     "data": {
      "image/png": "[encoded data removed]",
      "text/plain": [
       "<matplotlib.figure.Figure at 0x10b3a02b0>"
      ]
     },
     "metadata": {},
     "output_type": "display_data"
    }
   ],
   "source": [
    "%matplotlib inline\n",
    "import matplotlib.pyplot as plt\n",
    "result = matches.groupby('result').size()\n",
    "result.plot(kind = 'bar')"
   ]
  },
  {
   "cell_type": "code",
   "execution_count": 20,
   "metadata": {},
   "outputs": [],
   "source": [
    "league_results = matches.groupby(['result','league_name'])"
   ]
  },
  {
   "cell_type": "code",
   "execution_count": 21,
   "metadata": {},
   "outputs": [
    {
     "data": {
      "text/plain": [
       "<matplotlib.axes._subplots.AxesSubplot at 0x10c760780>"
      ]
     },
     "execution_count": 21,
     "metadata": {},
     "output_type": "execute_result"
    },
    {
     "data": {
      "image/png": "[encoded data removed]",
      "text/plain": [
       "<matplotlib.figure.Figure at 0x10c76ceb8>"
      ]
     },
     "metadata": {},
     "output_type": "display_data"
    }
   ],
   "source": [
    "league_results.size().unstack().plot(kind='bar',figsize=(16,16))"
   ]
  },
  {
   "cell_type": "code",
   "execution_count": 20,
   "metadata": {
    "collapsed": true
   },
   "outputs": [],
   "source": [
    "country_results = matches.groupby(['result','country',])"
   ]
  },
  {
   "cell_type": "code",
   "execution_count": 21,
   "metadata": {},
   "outputs": [
    {
     "data": {
      "text/plain": [
       "<matplotlib.axes._subplots.AxesSubplot at 0x11a44f240>"
      ]
     },
     "execution_count": 21,
     "metadata": {},
     "output_type": "execute_result"
    },
    {
     "data": {
      "image/png": "[encoded data removed]",
      "text/plain": [
       "<matplotlib.figure.Figure at 0x11a4474a8>"
      ]
     },
     "metadata": {},
     "output_type": "display_data"
    }
   ],
   "source": [
    "country_results.size().unstack().plot(kind='bar',figsize=(16,16))"
   ]
  },
  {
   "cell_type": "code",
   "execution_count": 64,
   "metadata": {},
   "outputs": [
    {
     "data": {
      "text/plain": [
       "-13.840313329997127"
      ]
     },
     "execution_count": 64,
     "metadata": {},
     "output_type": "execute_result"
    }
   ],
   "source": [
    "#always betting the best odds for the home team 1 dollar per game \n",
    "matches['best_home_payout'] = matches['best_home']\n",
    "matches['best_home_outcome'] = 'H'\n",
    "matches.loc[~(matches.best_home_outcome==matches.result),'best_home_payout']=0\n",
    "total_return_home = 100*(matches['best_home_payout'].sum()-matches['best_home_payout'].notnull().count())/matches['best_home_payout'].notnull().count()\n",
    "total_return_home"
   ]
  },
  {
   "cell_type": "code",
   "execution_count": 67,
   "metadata": {},
   "outputs": [
    {
     "data": {
      "text/plain": [
       "-16.870018091535123"
      ]
     },
     "execution_count": 67,
     "metadata": {},
     "output_type": "execute_result"
    }
   ],
   "source": [
    "#always betting the best odds for the away team 1 dollar per game \n",
    "matches['best_away_payout'] = matches['best_away']\n",
    "matches['best_away_outcome'] = 'A'\n",
    "matches.loc[~(matches.best_away_outcome==matches.result),'best_away_payout']=0\n",
    "total_return_away = 100*(matches['best_away_payout'].sum()-matches['best_away_payout'].notnull().count())/matches['best_away_payout'].notnull().count()\n",
    "total_return_away"
   ]
  },
  {
   "cell_type": "code",
   "execution_count": 68,
   "metadata": {},
   "outputs": [
    {
     "data": {
      "text/plain": [
       "-17.29862581315599"
      ]
     },
     "execution_count": 68,
     "metadata": {},
     "output_type": "execute_result"
    }
   ],
   "source": [
    "#always betting the best odds for the draw 1 dollar per game \n",
    "matches['best_draw_payout'] = matches['best_draw']\n",
    "matches['best_draw_outcome'] = 'D'\n",
    "matches.loc[~(matches.best_draw_outcome==matches.result),'best_draw_payout']=0\n",
    "total_return_draw = 100*(matches['best_draw_payout'].sum()-matches['best_draw_payout'].notnull().count())/matches['best_draw_payout'].notnull().count()\n",
    "total_return_draw"
   ]
  },
  {
   "cell_type": "code",
   "execution_count": 24,
   "metadata": {},
   "outputs": [
    {
     "name": "stdout",
     "output_type": "stream",
     "text": [
      "id\n",
      "country_id_x\n",
      "league_id\n",
      "season\n",
      "stage\n",
      "date\n",
      "match_api_id\n",
      "home_team_api_id\n",
      "away_team_api_id\n",
      "home_team_goal\n",
      "away_team_goal\n",
      "home_player_X1\n",
      "home_player_X2\n",
      "home_player_X3\n",
      "home_player_X4\n",
      "home_player_X5\n",
      "home_player_X6\n",
      "home_player_X7\n",
      "home_player_X8\n",
      "home_player_X9\n",
      "home_player_X10\n",
      "home_player_X11\n",
      "away_player_X1\n",
      "away_player_X2\n",
      "away_player_X3\n",
      "away_player_X4\n",
      "away_player_X5\n",
      "away_player_X6\n",
      "away_player_X7\n",
      "away_player_X8\n",
      "away_player_X9\n",
      "away_player_X10\n",
      "away_player_X11\n",
      "home_player_Y1\n",
      "home_player_Y2\n",
      "home_player_Y3\n",
      "home_player_Y4\n",
      "home_player_Y5\n",
      "home_player_Y6\n",
      "home_player_Y7\n",
      "home_player_Y8\n",
      "home_player_Y9\n",
      "home_player_Y10\n",
      "home_player_Y11\n",
      "away_player_Y1\n",
      "away_player_Y2\n",
      "away_player_Y3\n",
      "away_player_Y4\n",
      "away_player_Y5\n",
      "away_player_Y6\n",
      "away_player_Y7\n",
      "away_player_Y8\n",
      "away_player_Y9\n",
      "away_player_Y10\n",
      "away_player_Y11\n",
      "home_player_1\n",
      "home_player_2\n",
      "home_player_3\n",
      "home_player_4\n",
      "home_player_5\n",
      "home_player_6\n",
      "home_player_7\n",
      "home_player_8\n",
      "home_player_9\n",
      "home_player_10\n",
      "home_player_11\n",
      "away_player_1\n",
      "away_player_2\n",
      "away_player_3\n",
      "away_player_4\n",
      "away_player_5\n",
      "away_player_6\n",
      "away_player_7\n",
      "away_player_8\n",
      "away_player_9\n",
      "away_player_10\n",
      "away_player_11\n",
      "goal\n",
      "shoton\n",
      "shotoff\n",
      "foulcommit\n",
      "card\n",
      "cross\n",
      "corner\n",
      "possession\n",
      "B365H\n",
      "B365D\n",
      "B365A\n",
      "BWH\n",
      "BWD\n",
      "BWA\n",
      "IWH\n",
      "IWD\n",
      "IWA\n",
      "LBH\n",
      "LBD\n",
      "LBA\n",
      "PSH\n",
      "PSD\n",
      "PSA\n",
      "WHH\n",
      "WHD\n",
      "WHA\n",
      "SJH\n",
      "SJD\n",
      "SJA\n",
      "VCH\n",
      "VCD\n",
      "VCA\n",
      "GBH\n",
      "GBD\n",
      "GBA\n",
      "BSH\n",
      "BSD\n",
      "BSA\n",
      "result\n",
      "best_home\n",
      "worst_home\n",
      "best_draw\n",
      "worst_draw\n",
      "best_away\n",
      "worst_away\n",
      "country\n",
      "country_id_y\n",
      "league_name\n"
     ]
    }
   ],
   "source": [
    "for column in matches.columns: \n",
    "    print(column)\n",
    "    #for each team make a set of dates in a new data frame \n",
    "    #team id dict :data key "
   ]
  },
  {
   "cell_type": "code",
   "execution_count": null,
   "metadata": {
    "collapsed": true
   },
   "outputs": [],
   "source": [
    "#Get past games data not present teams data \n"
   ]
  }
 ],
 "metadata": {
  "kernelspec": {
   "display_name": "Python [conda root]",
   "language": "python",
   "name": "conda-root-py"
  },
  "language_info": {
   "codemirror_mode": {
    "name": "ipython",
    "version": 3
   },
   "file_extension": ".py",
   "mimetype": "text/x-python",
   "name": "python",
   "nbconvert_exporter": "python",
   "pygments_lexer": "ipython3",
   "version": "3.5.3"
  }
 },
 "nbformat": 4,
 "nbformat_minor": 2
}
